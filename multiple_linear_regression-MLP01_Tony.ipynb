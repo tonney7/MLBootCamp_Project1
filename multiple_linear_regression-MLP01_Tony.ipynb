{
 "cells": [
  {
   "cell_type": "markdown",
   "metadata": {
    "colab_type": "text",
    "id": "CazISR8X_HUG"
   },
   "source": [
    "# Multiple Linear Regression"
   ]
  },
  {
   "cell_type": "markdown",
   "metadata": {
    "colab_type": "text",
    "id": "pOyqYHTk_Q57"
   },
   "source": [
    "## Importing the libraries"
   ]
  },
  {
   "cell_type": "code",
   "execution_count": 1,
   "metadata": {
    "colab": {},
    "colab_type": "code",
    "id": "T_YHJjnD_Tja"
   },
   "outputs": [],
   "source": [
    "import numpy as np\n",
    "import matplotlib.pyplot as plt\n",
    "import pandas as pd"
   ]
  },
  {
   "cell_type": "markdown",
   "metadata": {
    "colab_type": "text",
    "id": "vgC61-ah_WIz"
   },
   "source": [
    "## Importing the dataset"
   ]
  },
  {
   "cell_type": "code",
   "execution_count": 2,
   "metadata": {
    "colab": {},
    "colab_type": "code",
    "id": "UrxyEKGn_ez7"
   },
   "outputs": [],
   "source": [
    "import xlrd\n",
    "dataset = pd.read_csv('datasets_Life Expectancy Data_No_blanks.csv')\n",
    "dataset.head(5)\n",
    "X=dataset.iloc[:,[4,5,6,7,8,10,11,12,13,14,15,16,18,19,20]]\n",
    "        #5 & 11, 18 & 19, 20 & 21\n",
    "               #,4:21]#[4,5,6,7,8,10,11,12,13,14,15,16,18,19,20,21]] #4:21]  # [10,20]]   [4,7,10,15,16,18,19,20,21] [4:8,10:16,18:21]\n",
    "y=dataset.iloc[:,3]"
   ]
  },
  {
   "cell_type": "code",
   "execution_count": 3,
   "metadata": {
    "colab": {
     "base_uri": "https://localhost:8080/",
     "height": 857
    },
    "colab_type": "code",
    "executionInfo": {
     "elapsed": 552,
     "status": "ok",
     "timestamp": 1586353652778,
     "user": {
      "displayName": "Hadelin de Ponteves",
      "photoUrl": "https://lh3.googleusercontent.com/a-/AOh14GhEuXdT7eQweUmRPW8_laJuPggSK6hfvpl5a6WBaA=s64",
      "userId": "15047218817161520419"
     },
     "user_tz": -240
    },
    "id": "GOB3QhV9B5kD",
    "outputId": "4a05377a-2db2-43fc-b824-a0710448baee"
   },
   "outputs": [
    {
     "name": "stdout",
     "output_type": "stream",
     "text": [
      "      Adult Mortality  infant deaths  Alcohol  percentage expenditure  \\\n",
      "0                 263             62     0.01               71.279624   \n",
      "1                 271             64     0.01               73.523582   \n",
      "2                 268             66     0.01               73.219243   \n",
      "3                 272             69     0.01               78.184215   \n",
      "4                 275             71     0.01                7.097109   \n",
      "...               ...            ...      ...                     ...   \n",
      "1337              723             27     4.36                0.000000   \n",
      "1338              715             26     4.06                0.000000   \n",
      "1339               73             25     4.43                0.000000   \n",
      "1340              686             25     1.72                0.000000   \n",
      "1341              665             24     1.68                0.000000   \n",
      "\n",
      "      Hepatitis B   BMI   under-five deaths   Polio  Total expenditure  \\\n",
      "0              65   19.1                  83      6               8.16   \n",
      "1              62   18.6                  86     58               8.18   \n",
      "2              64   18.1                  89     62               8.13   \n",
      "3              67   17.6                  93     67               8.52   \n",
      "4              68   17.2                  97     68               7.87   \n",
      "...           ...    ...                 ...    ...                ...   \n",
      "1337           68   27.1                  42     67               7.13   \n",
      "1338            7   26.7                  41      7               6.52   \n",
      "1339           73   26.3                  40     73               6.53   \n",
      "1340           76   25.9                  39     76               6.16   \n",
      "1341           79   25.5                  39     78               7.10   \n",
      "\n",
      "      Diphtheria    HIV/AIDS         GDP   thinness  1-19 years  \\\n",
      "0              65        0.1  584.259210                   17.2   \n",
      "1              62        0.1  612.696514                   17.5   \n",
      "2              64        0.1  631.744976                   17.7   \n",
      "3              67        0.1  669.959000                   17.9   \n",
      "4              68        0.1   63.537231                   18.2   \n",
      "...           ...        ...         ...                    ...   \n",
      "1337           65       33.6  454.366654                    9.4   \n",
      "1338           68       36.7  453.351155                    9.8   \n",
      "1339           71       39.8   57.348340                    1.2   \n",
      "1340           75       42.1  548.587312                    1.6   \n",
      "1341           78       43.5  547.358879                   11.0   \n",
      "\n",
      "       thinness 5-9 years  Income composition of resources  \n",
      "0                    17.3                            0.479  \n",
      "1                    17.5                            0.476  \n",
      "2                    17.7                            0.470  \n",
      "3                    18.0                            0.463  \n",
      "4                    18.2                            0.454  \n",
      "...                   ...                              ...  \n",
      "1337                  9.4                            0.407  \n",
      "1338                  9.9                            0.418  \n",
      "1339                  1.3                            0.427  \n",
      "1340                  1.7                            0.427  \n",
      "1341                 11.2                            0.434  \n",
      "\n",
      "[1342 rows x 15 columns]\n",
      "0       65.0\n",
      "1       59.9\n",
      "2       59.9\n",
      "3       59.5\n",
      "4       59.2\n",
      "        ... \n",
      "1337    44.3\n",
      "1338    44.5\n",
      "1339    44.8\n",
      "1340    45.3\n",
      "1341    46.0\n",
      "Name: Life expectancy , Length: 1342, dtype: float64\n"
     ]
    }
   ],
   "source": [
    "print(X)\n",
    "print(y)"
   ]
  },
  {
   "cell_type": "markdown",
   "metadata": {
    "colab_type": "text",
    "id": "WemVnqgeA70k"
   },
   "source": [
    "## Splitting the dataset into the Training set and Test set"
   ]
  },
  {
   "cell_type": "code",
   "execution_count": 4,
   "metadata": {
    "colab": {},
    "colab_type": "code",
    "id": "Kb_v_ae-A-20"
   },
   "outputs": [],
   "source": [
    "from sklearn.model_selection import train_test_split\n",
    "X_train, X_test, y_train, y_test = train_test_split(X, y, test_size = 0.2, random_state = 0)"
   ]
  },
  {
   "cell_type": "code",
   "execution_count": 5,
   "metadata": {},
   "outputs": [
    {
     "name": "stdout",
     "output_type": "stream",
     "text": [
      "      Adult Mortality  infant deaths  Alcohol  percentage expenditure  \\\n",
      "867               194              3     3.70              218.571618   \n",
      "459                28             41     1.25                3.181374   \n",
      "211                32             47     4.73               64.240252   \n",
      "1335                7             28     4.57               34.262169   \n",
      "494               217              0     7.64                4.141293   \n",
      "...               ...            ...      ...                     ...   \n",
      "1127              187              0     5.64              989.126356   \n",
      "629                26              0     8.81               80.032837   \n",
      "674               241             31     0.97               78.799672   \n",
      "792                19              0     0.01              707.144691   \n",
      "1305              183             24     1.59               34.418872   \n",
      "\n",
      "      Hepatitis B   BMI   under-five deaths   Polio  Total expenditure  \\\n",
      "867            86   46.4                   4     87               6.11   \n",
      "459            94   23.6                  61     94               5.30   \n",
      "211            76   14.6                  86     94               6.58   \n",
      "1335           68   27.9                  45     71               5.12   \n",
      "494            98   45.9                   1     97               5.25   \n",
      "...           ...    ...                 ...    ...                ...   \n",
      "1127           86   55.5                   0     86               5.93   \n",
      "629            98   56.6                   0     99               6.51   \n",
      "674            73   18.5                  43     73               4.24   \n",
      "792             9    6.7                   0     94               6.43   \n",
      "1305           99   37.0                  29     99               5.11   \n",
      "\n",
      "      Diphtheria    HIV/AIDS          GDP   thinness  1-19 years  \\\n",
      "867            86        0.3  1175.116225                    2.0   \n",
      "459            94        2.6    19.686718                    7.7   \n",
      "211            86        2.0   422.633237                    1.0   \n",
      "1335            7       26.8   414.796232                    8.6   \n",
      "494            98        0.3    43.823210                    5.5   \n",
      "...           ...        ...          ...                    ...   \n",
      "1127           86        0.1  8318.976920                    3.5   \n",
      "629            99        0.1  6351.812500                    2.5   \n",
      "674            73        0.4   454.963464                    7.5   \n",
      "792            94        0.1  7186.429787                    1.8   \n",
      "1305           99        0.3   465.119887                    3.2   \n",
      "\n",
      "       thinness 5-9 years  Income composition of resources  \n",
      "867                   1.9                            0.592  \n",
      "459                   7.6                            0.519  \n",
      "211                   9.6                            0.325  \n",
      "1335                  8.6                            0.408  \n",
      "494                   5.3                            0.636  \n",
      "...                   ...                              ...  \n",
      "1127                  3.4                            0.704  \n",
      "629                   2.6                            0.776  \n",
      "674                   7.4                            0.504  \n",
      "792                   1.9                            0.799  \n",
      "1305                  3.2                            0.613  \n",
      "\n",
      "[269 rows x 15 columns]\n"
     ]
    }
   ],
   "source": [
    "print(X_test)"
   ]
  },
  {
   "cell_type": "markdown",
   "metadata": {
    "colab_type": "text",
    "id": "k-McZVsQBINc"
   },
   "source": [
    "## Training the Multiple Linear Regression model on the Training set"
   ]
  },
  {
   "cell_type": "code",
   "execution_count": 6,
   "metadata": {
    "colab": {
     "base_uri": "https://localhost:8080/",
     "height": 34
    },
    "colab_type": "code",
    "executionInfo": {
     "elapsed": 757,
     "status": "ok",
     "timestamp": 1586353664008,
     "user": {
      "displayName": "Hadelin de Ponteves",
      "photoUrl": "https://lh3.googleusercontent.com/a-/AOh14GhEuXdT7eQweUmRPW8_laJuPggSK6hfvpl5a6WBaA=s64",
      "userId": "15047218817161520419"
     },
     "user_tz": -240
    },
    "id": "ywPjx0L1BMiD",
    "outputId": "099836bc-4d85-4b4f-a488-093faf02e8cb"
   },
   "outputs": [
    {
     "data": {
      "text/plain": [
       "LinearRegression()"
      ]
     },
     "execution_count": 6,
     "metadata": {},
     "output_type": "execute_result"
    }
   ],
   "source": [
    "from sklearn.linear_model import LinearRegression\n",
    "regressor = LinearRegression()\n",
    "regressor.fit(X_train, y_train)"
   ]
  },
  {
   "cell_type": "markdown",
   "metadata": {
    "colab_type": "text",
    "id": "xNkXL1YQBiBT"
   },
   "source": [
    "## Predicting the Test set results"
   ]
  },
  {
   "cell_type": "code",
   "execution_count": 7,
   "metadata": {
    "colab": {
     "base_uri": "https://localhost:8080/",
     "height": 185
    },
    "colab_type": "code",
    "executionInfo": {
     "elapsed": 951,
     "status": "ok",
     "timestamp": 1586353666678,
     "user": {
      "displayName": "Hadelin de Ponteves",
      "photoUrl": "https://lh3.googleusercontent.com/a-/AOh14GhEuXdT7eQweUmRPW8_laJuPggSK6hfvpl5a6WBaA=s64",
      "userId": "15047218817161520419"
     },
     "user_tz": -240
    },
    "id": "TQKmwvtdBkyb",
    "outputId": "493436bf-a4ae-4374-ca16-0b0c25d19457"
   },
   "outputs": [
    {
     "name": "stdout",
     "output_type": "stream",
     "text": [
      "Mean Squared error Score:\t 8.808120970611439 \n",
      "R^2 Error Score:\t\t 0.8479095864410593\n"
     ]
    },
    {
     "data": {
      "image/png": "[encoded data removed]",
      "text/plain": [
       "<Figure size 432x288 with 1 Axes>"
      ]
     },
     "metadata": {
      "needs_background": "light"
     },
     "output_type": "display_data"
    }
   ],
   "source": [
    "y_pred = regressor.predict(X_test)\n",
    "plt.plot(y_pred,y_test,'.')\n",
    "plt.title('y_pred vs y_actual')\n",
    "plt.ylabel('y_pred')\n",
    "plt.xlabel('y_actual')\n",
    "from sklearn.metrics import mean_squared_error, r2_score\n",
    "mse=mean_squared_error(y_pred, y_test)\n",
    "r2=r2_score(y_pred, y_test)\n",
    "print('Mean Squared error Score:\\t',mse,'\\nR^2 Error Score:\\t\\t',r2)\n"
   ]
  },
  {
   "cell_type": "code",
   "execution_count": 8,
   "metadata": {},
   "outputs": [
    {
     "data": {
      "text/plain": [
       "[<matplotlib.lines.Line2D at 0x1bd75de8cd0>,\n",
       " <matplotlib.lines.Line2D at 0x1bd75de8d00>,\n",
       " <matplotlib.lines.Line2D at 0x1bd75de8df0>,\n",
       " <matplotlib.lines.Line2D at 0x1bd75de8eb0>,\n",
       " <matplotlib.lines.Line2D at 0x1bd75de8f70>,\n",
       " <matplotlib.lines.Line2D at 0x1bd75df3070>,\n",
       " <matplotlib.lines.Line2D at 0x1bd75df3130>,\n",
       " <matplotlib.lines.Line2D at 0x1bd75df31f0>,\n",
       " <matplotlib.lines.Line2D at 0x1bd75df32b0>,\n",
       " <matplotlib.lines.Line2D at 0x1bd75df3370>,\n",
       " <matplotlib.lines.Line2D at 0x1bd75df3430>,\n",
       " <matplotlib.lines.Line2D at 0x1bd75df34f0>,\n",
       " <matplotlib.lines.Line2D at 0x1bd75df35b0>,\n",
       " <matplotlib.lines.Line2D at 0x1bd75df3670>,\n",
       " <matplotlib.lines.Line2D at 0x1bd75df3730>]"
      ]
     },
     "execution_count": 8,
     "metadata": {},
     "output_type": "execute_result"
    },
    {
     "data": {
      "image/png": "[encoded data removed]",
      "text/plain": [
       "<Figure size 432x288 with 1 Axes>"
      ]
     },
     "metadata": {
      "needs_background": "light"
     },
     "output_type": "display_data"
    }
   ],
   "source": [
    "plt.plot(X_test,y_test,'.b')\n",
    "plt.plot(X_test,y_pred,'-r')"
   ]
  },
  {
   "cell_type": "code",
   "execution_count": null,
   "metadata": {},
   "outputs": [],
   "source": []
  }
 ],
 "metadata": {
  "colab": {
   "authorship_tag": "ABX9TyPhYhte6t7H4wEK4xPpDWT7",
   "name": "Multiple Linear Regression",
   "provenance": [],
   "toc_visible": true
  },
  "kernelspec": {
   "display_name": "Python 3",
   "language": "python",
   "name": "python3"
  },
  "language_info": {
   "codemirror_mode": {
    "name": "ipython",
    "version": 3
   },
   "file_extension": ".py",
   "mimetype": "text/x-python",
   "name": "python",
   "nbconvert_exporter": "python",
   "pygments_lexer": "ipython3",
   "version": "3.8.3"
  }
 },
 "nbformat": 4,
 "nbformat_minor": 1
}
